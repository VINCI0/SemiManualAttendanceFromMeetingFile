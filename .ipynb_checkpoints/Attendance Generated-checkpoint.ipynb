{
 "cells": [
  {
   "cell_type": "code",
   "execution_count": null,
   "metadata": {},
   "outputs": [],
   "source": [
    "import pandas as pd\n",
    "import numpy as np"
   ]
  },
  {
   "cell_type": "markdown",
   "metadata": {},
   "source": [
    "### List should be TEAM Genereted"
   ]
  },
  {
   "cell_type": "code",
   "execution_count": null,
   "metadata": {},
   "outputs": [],
   "source": [
    "df=pd.read_csv(\"list_.csv\",encoding = \"utf-8\")"
   ]
  },
  {
   "cell_type": "code",
   "execution_count": null,
   "metadata": {},
   "outputs": [],
   "source": [
    "listOfStudents=df['Full Name']"
   ]
  },
  {
   "cell_type": "code",
   "execution_count": null,
   "metadata": {},
   "outputs": [],
   "source": [
    "setOfStudents=set(listOfStudents)"
   ]
  },
  {
   "cell_type": "code",
   "execution_count": null,
   "metadata": {},
   "outputs": [],
   "source": [
    "setOfStudents"
   ]
  },
  {
   "cell_type": "code",
   "execution_count": null,
   "metadata": {},
   "outputs": [],
   "source": [
    "df_allSections=pd.read_excel('PIT List All Sections.xlsx')"
   ]
  },
  {
   "cell_type": "code",
   "execution_count": null,
   "metadata": {},
   "outputs": [],
   "source": [
    "sessionName='Session 1'"
   ]
  },
  {
   "cell_type": "code",
   "execution_count": null,
   "metadata": {},
   "outputs": [],
   "source": [
    "df_allSections[sessionName]='A'"
   ]
  },
  {
   "cell_type": "code",
   "execution_count": null,
   "metadata": {},
   "outputs": [],
   "source": [
    "df_allSections"
   ]
  },
  {
   "cell_type": "code",
   "execution_count": null,
   "metadata": {},
   "outputs": [],
   "source": [
    "def removingParantheis(listOfText):\n",
    "    j=0\n",
    "    while j<len(listOfText):\n",
    "        text=listOfText[j]\n",
    "        i=0\n",
    "        text=list(text)\n",
    "        editText=[]\n",
    "        while i < len(text):\n",
    "            if text[i] not in ['(',')','_']:\n",
    "                editText.append(text[i])\n",
    "            else:\n",
    "                editText.append(' ')\n",
    "\n",
    "            i+=1\n",
    "        \n",
    "        text=''.join(editText)\n",
    "        print(text)\n",
    "        listOfText[j]=text\n",
    "        j+=1\n",
    "    return listOfText"
   ]
  },
  {
   "cell_type": "code",
   "execution_count": null,
   "metadata": {},
   "outputs": [],
   "source": [
    "def removingGuestFromText(listOfText):\n",
    "    listModified=[]\n",
    "    for text in listOfText:\n",
    "        tokens=text.split()\n",
    "        while 'Guest' in tokens:\n",
    "            tokens.remove('Guest')\n",
    "        text=' '.join(tokens)\n",
    "        listModified.append(text)\n",
    "    return listModified"
   ]
  },
  {
   "cell_type": "code",
   "execution_count": null,
   "metadata": {},
   "outputs": [],
   "source": [
    "student_list_clean=removingParantheis(list(setOfStudents))"
   ]
  },
  {
   "cell_type": "code",
   "execution_count": null,
   "metadata": {},
   "outputs": [],
   "source": [
    "student_list_clean=removingGuestFromText(student_list_clean)\n",
    "student_list_clean"
   ]
  },
  {
   "cell_type": "markdown",
   "metadata": {},
   "source": [
    "### Tiresome Method using Excel As Help"
   ]
  },
  {
   "cell_type": "code",
   "execution_count": null,
   "metadata": {},
   "outputs": [],
   "source": [
    "def usingExcelSheetAsHelp():\n",
    "    '''\n",
    "    Trivial method. You will have to search for names of attendee students in excel sheet.\n",
    "    can mark using this function as helper\n",
    "    '''\n",
    "    for index, row in df_allSections.iterrows():\n",
    "        rollNo=df_allSections.loc[index]['RollNo']\n",
    "        name=df_allSections.loc[index]['Name']\n",
    "        print(df_allSections.loc[index]['RollNo'],df_allSections.loc[index]['Name'],df_allSections.loc[index]['Section'])\n",
    "        attendance = input('Enter Attendance\\n')\n",
    "        df_allSections.at[index,'Session 1']=attendance"
   ]
  },
  {
   "cell_type": "markdown",
   "metadata": {},
   "source": [
    "### Semi Manual Method"
   ]
  },
  {
   "cell_type": "code",
   "execution_count": null,
   "metadata": {},
   "outputs": [],
   "source": [
    "def creatingPresentStudentTokens(listOfStudents):\n",
    "    presentStudentsTokens=[]\n",
    "    for s in listOfStudents:\n",
    "        tokens=s.split()\n",
    "        presentStudentsTokens.append(tokens)\n",
    "    return presentStudentsTokens"
   ]
  },
  {
   "cell_type": "code",
   "execution_count": null,
   "metadata": {},
   "outputs": [],
   "source": [
    "def findRelevantStudentMatch(presentListTokens,listOfStudents,name,rollNo):\n",
    "    relevantStudents=[]\n",
    "    nameTokens=name.split()\n",
    "    i=0\n",
    "    for st in presentListTokens:\n",
    "        for t in nameTokens:\n",
    "            if t in st and t not in ['Muhammad','Mohammad','Khan']:\n",
    "                relevantStudents.append(listOfStudents[i])\n",
    "        if rollNo in st:\n",
    "                relevantStudents.append(listOfStudents[i])      \n",
    "        i+=1\n",
    "    return relevantStudents"
   ]
  },
  {
   "cell_type": "code",
   "execution_count": null,
   "metadata": {},
   "outputs": [],
   "source": [
    "def usingSemiManual(df_allSections,list_of_present_students):\n",
    "    \n",
    "    presentStudentsTokens=creatingPresentStudentTokens(list_of_present_students)\n",
    "    for index, row in df_allSections.iterrows():\n",
    "        rollNo=df_allSections.loc[index]['RollNo']\n",
    "        name=df_allSections.loc[index]['Name']\n",
    "        print(df_allSections.loc[index]['RollNo'],df_allSections.loc[index]['Name'],df_allSections.loc[index]['Section'])\n",
    "#     for finding in list of students\n",
    "        relevantSuggestions=findRelevantStudentMatch(presentStudentsTokens,list_of_present_students,name,rollNo)\n",
    "        relevantSuggestions=set(relevantSuggestions)\n",
    "        print(\"Relevant Students in Present List\",relevantSuggestions)\n",
    "        while True:\n",
    "            attendance=input(\"Attendance:\")\n",
    "            if (attendance in ['P','A']):\n",
    "                break\n",
    "            else:\n",
    "                print(\"Wrong Option. Enter Option in ['P','A']\")\n",
    "        df_allSections.at[index,sessionName]=attendance"
   ]
  },
  {
   "cell_type": "code",
   "execution_count": null,
   "metadata": {},
   "outputs": [],
   "source": [
    " presentStudentsTokens=creatingPresentStudentTokens(student_list_clean)\n",
    "presentStudentsTokens"
   ]
  },
  {
   "cell_type": "code",
   "execution_count": null,
   "metadata": {},
   "outputs": [],
   "source": [
    "# presentStudentsTokens=creatingPresentStudentTokens(student_list_clean)\n",
    "# print(presentStudentsTokens)\n",
    "# relevantSuggestions(presentStudentsTokens)\n",
    "usingSemiManual(df_allSections,student_list_clean)"
   ]
  },
  {
   "cell_type": "code",
   "execution_count": null,
   "metadata": {},
   "outputs": [],
   "source": [
    "df_allSections"
   ]
  },
  {
   "cell_type": "code",
   "execution_count": 3,
   "metadata": {},
   "outputs": [],
   "source": [
    "### Saving Final"
   ]
  },
  {
   "cell_type": "code",
   "execution_count": null,
   "metadata": {},
   "outputs": [],
   "source": [
    "df_allSections.to_csv('Attendance Seminar.csv',index=False)"
   ]
  }
 ],
 "metadata": {
  "kernelspec": {
   "display_name": "Python 3",
   "language": "python",
   "name": "python3"
  },
  "language_info": {
   "codemirror_mode": {
    "name": "ipython",
    "version": 3
   },
   "file_extension": ".py",
   "mimetype": "text/x-python",
   "name": "python",
   "nbconvert_exporter": "python",
   "pygments_lexer": "ipython3",
   "version": "3.7.4"
  }
 },
 "nbformat": 4,
 "nbformat_minor": 2
}
